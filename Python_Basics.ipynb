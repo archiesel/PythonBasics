{
  "nbformat": 4,
  "nbformat_minor": 0,
  "metadata": {
    "colab": {
      "provenance": [],
      "authorship_tag": "ABX9TyP6HegpS+HnoMVAsQYhGp3Z",
      "include_colab_link": true
    },
    "kernelspec": {
      "name": "python3",
      "display_name": "Python 3"
    },
    "language_info": {
      "name": "python"
    }
  },
  "cells": [
    {
      "cell_type": "markdown",
      "metadata": {
        "id": "view-in-github",
        "colab_type": "text"
      },
      "source": [
        "<a href=\"https://colab.research.google.com/github/archiesel/PythonBasics/blob/master/Python_Basics.ipynb\" target=\"_parent\"><img src=\"https://colab.research.google.com/assets/colab-badge.svg\" alt=\"Open In Colab\"/></a>"
      ]
    },
    {
      "cell_type": "code",
      "execution_count": null,
      "metadata": {
        "id": "f5AvJxUfawXe",
        "outputId": "a0bf5e2d-54d5-4762-c872-dac8dd637feb",
        "colab": {
          "base_uri": "https://localhost:8080/"
        }
      },
      "outputs": [
        {
          "output_type": "stream",
          "name": "stdout",
          "text": [
            "Hello!!!\n"
          ]
        }
      ],
      "source": [
        "print(\"Hello!!!\")"
      ]
    },
    {
      "cell_type": "code",
      "source": [
        "# Primitive Data Types\n",
        "\n",
        "# Integer\n",
        "temp = -2\n",
        "day = 28\n",
        "\n",
        "# Float\n",
        "pi = 3.14\n",
        "\n",
        "# String\n",
        "name = \"Shiv\"\n",
        "\n",
        "# Boolean\n",
        "is_sunny = True\n",
        "is_rainy = False"
      ],
      "metadata": {
        "id": "KNVah6pl4lMt"
      },
      "execution_count": null,
      "outputs": []
    },
    {
      "cell_type": "code",
      "source": [
        "# Dynamic Typing\n",
        "\n",
        "var = 100  # var is of type int\n",
        "var = \"Hello\" # now a string\n",
        "var = 10.5 # now a float"
      ],
      "metadata": {
        "id": "fPsTcfA55RsM"
      },
      "execution_count": null,
      "outputs": []
    },
    {
      "cell_type": "code",
      "source": [
        "# Checking Type\n",
        "\n",
        "var = 100\n",
        "print(type(var))\n",
        "\n",
        "var = \"Hello\"\n",
        "print(type(var))\n",
        "\n",
        "# Type Conversion\n",
        "\n",
        "str = \"100\"\n",
        "print(type(str))\n",
        "num = int(str)\n",
        "print(type(num))"
      ],
      "metadata": {
        "id": "vtFGKBQx7uV3"
      },
      "execution_count": null,
      "outputs": []
    },
    {
      "cell_type": "code",
      "source": [
        "# Dynamic Typing\n",
        "\n",
        "x = 10         # x is an integer\n",
        "print(type(x)) # Output: <class 'int'>\n",
        "\n",
        "x = 10.5       # Now x is a float\n",
        "print(type(x)) # Output: <class 'float'>\n",
        "\n",
        "x = \"Hello\"    # Now x is a string\n",
        "print(type(x)) # Output: <class 'str'>"
      ],
      "metadata": {
        "id": "-6WOhxWX8c5N"
      },
      "execution_count": null,
      "outputs": []
    },
    {
      "cell_type": "code",
      "source": [
        "# Arithmetic Operators\n",
        "\n",
        "x = 5\n",
        "y = 3\n",
        "\n",
        "# Addition\n",
        "print(x + y) # Output: 8\n",
        "\n",
        "# Subtraction\n",
        "print(x - y) # Output: 2\n",
        "\n",
        "# Multiplication\n",
        "print(x * y) # Output: 15\n",
        "\n",
        "# Division\n",
        "print(x / y) # Output: 1.6666666666666667\n",
        "\n",
        "# Modulus\n",
        "print(x % y) # Output: 2\n",
        "\n",
        "# Exponentiation\n",
        "print(x ** y) # Output: 125\n",
        "\n",
        "# Floor Division\n",
        "print(x // y) # Output: 1"
      ],
      "metadata": {
        "id": "1v__08jnXVlp"
      },
      "execution_count": null,
      "outputs": []
    }
  ]
}